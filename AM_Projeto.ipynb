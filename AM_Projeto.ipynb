{
  "nbformat": 4,
  "nbformat_minor": 0,
  "metadata": {
    "colab": {
      "name": "AM Projeto.ipynb",
      "provenance": [],
      "collapsed_sections": []
    },
    "kernelspec": {
      "name": "python3",
      "display_name": "Python 3"
    }
  },
  "cells": [
    {
      "cell_type": "code",
      "metadata": {
        "id": "SrzkeorPvs4v"
      },
      "source": [
        "import pandas as pd\n",
        "import glob\n",
        "import os\n",
        "import sklearn\n",
        "from sklearn import tree\n",
        "from sklearn.neighbors import KNeighborsClassifier\n",
        "import sklearn.metrics as metrics\n",
        "import numpy as np\n",
        "from sklearn.model_selection import train_test_split\n",
        "pd.set_option('display.max_columns', None)"
      ],
      "execution_count": null,
      "outputs": []
    },
    {
      "cell_type": "code",
      "metadata": {
        "id": "xCKfbfy3vyDJ"
      },
      "source": [
        "attributes = [\n",
        "   \"Wife's age\",\n",
        "   \"Wife's education\",\n",
        "   \"Husband's education\",\n",
        "   \"Number of children ever born\",\n",
        "   \"Wife's religion\",\n",
        "   \"Wife's now working?\",\n",
        "   \"Husband's occupation\",\n",
        "   \"Standard-of-living index\",\n",
        "   \"Media exposure\",                \n",
        "   \"Contraceptive method used\"\n",
        "]\n",
        "\n",
        "features = [\n",
        "    \"Wife's age\",\n",
        "    \"Wife's education\",\n",
        "    \"Husband's education\",\n",
        "    \"Number of children ever born\",\n",
        "    \"Wife's religion\",\n",
        "    \"Wife's now working?\",\n",
        "    \"Husband's occupation\",\n",
        "    \"Standard-of-living index\",\n",
        "    \"Media exposure\"\n",
        "]\n",
        "prediction_class = [\n",
        "    \"Contraceptive method used\"\n",
        "]"
      ],
      "execution_count": null,
      "outputs": []
    },
    {
      "cell_type": "code",
      "metadata": {
        "id": "AAk2agnmv2BG"
      },
      "source": [
        "data_set = pd.read_csv('/content/cmc.data.txt', names= attributes)\n",
        "#data_set"
      ],
      "execution_count": null,
      "outputs": []
    },
    {
      "cell_type": "code",
      "metadata": {
        "id": "-grjOZW5wPoE"
      },
      "source": [
        "def normalize_data_features(data_set):\n",
        "    for key in features:\n",
        "        min_feature = data_set[key].min()\n",
        "        max_feature = data_set[key].max()\n",
        "        data_set[key] = data_set[key].map(lambda row: (float)(row-min_feature)/(min_feature+max_feature))\n",
        "    return data_set\n",
        "    "
      ],
      "execution_count": null,
      "outputs": []
    },
    {
      "cell_type": "code",
      "metadata": {
        "id": "H3TjtTZNwRdO"
      },
      "source": [
        "\n",
        "data_set = normalize_data_features(data_set)"
      ],
      "execution_count": null,
      "outputs": []
    },
    {
      "cell_type": "code",
      "metadata": {
        "id": "WDYssvQpwTC_"
      },
      "source": [
        "#data_set[predictioei glrn_class[0]] = pd.get_dummies(data_set['Contraceptive method used']).to_dict('split')['data']"
      ],
      "execution_count": null,
      "outputs": []
    },
    {
      "cell_type": "code",
      "metadata": {
        "id": "lyBcWtkV8wjf"
      },
      "source": [
        "gp = {}\n",
        "df_by_class = {}\n",
        "test_train_by_class = {}\n",
        "for i in range(1, 4):\n",
        "  gp[i] = data_set.loc[data_set[prediction_class[0]] == i]\n",
        "  df_by_class[i] = {\n",
        "      'features': gp[i][features].values,\n",
        "      'class': gp[i][prediction_class[0]].values\n",
        "  }\n",
        "\n",
        "\n",
        "  features_train, features_test, class_train, class_test = train_test_split(df_by_class[i]['features'], df_by_class[i]['class'], test_size=0.30, random_state=42)\n",
        "  test_train_by_class[i] = {\n",
        "      'features_train': features_train,\n",
        "      'features_test': features_test,\n",
        "      'class_train': class_train,\n",
        "      'class_test': class_test\n",
        "  }\n",
        "\n"
      ],
      "execution_count": null,
      "outputs": []
    },
    {
      "cell_type": "code",
      "metadata": {
        "id": "eCu728VRHF2J"
      },
      "source": [
        "test_train_collection = {\n",
        "      'features_train': pd.DataFrame(),\n",
        "      'features_test': pd.DataFrame(),\n",
        "      'class_train': pd.DataFrame(),\n",
        "      'class_test': pd.DataFrame()\n",
        "  }\n",
        "for index in test_train_by_class:\n",
        "  if(not test_train_collection['features_train'].empty):\n",
        "\n",
        "    test_train_collection['features_train'] = test_train_collection['features_train'].append(pd.DataFrame(test_train_by_class[index]['features_train']), ignore_index = True)\n",
        "    test_train_collection['features_test'] = test_train_collection['features_test'].append(pd.DataFrame(test_train_by_class[index]['features_test']), ignore_index = True)\n",
        "    test_train_collection['class_train'] = test_train_collection['class_train'].append(pd.DataFrame(test_train_by_class[index]['class_train']), ignore_index = True)\n",
        "    test_train_collection['class_test'] = test_train_collection['class_test'].append(pd.DataFrame(test_train_by_class[index]['class_test']), ignore_index = True)\n",
        "  else:\n",
        "    test_train_collection['features_train'] = pd.DataFrame(test_train_by_class[index]['features_train'])\n",
        "    test_train_collection['features_test'] = pd.DataFrame(test_train_by_class[index]['features_test'])\n",
        "    test_train_collection['class_train'] = pd.DataFrame(test_train_by_class[index]['class_train'])\n",
        "    test_train_collection['class_test'] = pd.DataFrame(test_train_by_class[index]['class_test'])\n",
        "    "
      ],
      "execution_count": null,
      "outputs": []
    },
    {
      "cell_type": "code",
      "metadata": {
        "id": "aZmWybIgHUso"
      },
      "source": [
        ""
      ],
      "execution_count": null,
      "outputs": []
    },
    {
      "cell_type": "code",
      "metadata": {
        "id": "3vrF-b1XG0tn",
        "outputId": "ab4665c1-e9b3-4df7-f88a-e9c25042808e",
        "colab": {
          "base_uri": "https://localhost:8080/",
          "height": 118
        }
      },
      "source": [
        "models = []\n",
        "\n",
        "#setting possible attr\n",
        "iterations = list(range(1, 31)) ## iterating to get the mean metrics values of random models created by specific params\n",
        "criterions = ['gini','entropy']\n",
        "splitters = ['best','random']\n",
        "max_featuress = list(range(1,10))\n",
        "#max_leaf_nodess = list(range(1,10))\n",
        "max_depths = list(range(1,10))\n",
        "\n",
        "\n",
        "\n",
        "\n",
        "for criterion in criterions:\n",
        "  print(criterion)\n",
        "  for splitter in splitters:\n",
        "    print(splitter)\n",
        "    for max_features in max_featuress:\n",
        "      for max_depth in max_depths:\n",
        "\n",
        "        \n",
        "\n",
        "\n",
        "        iter_metrics = {\n",
        "            'accuracy': 0,\n",
        "        }\n",
        "        for iteration in iterations:\n",
        "          clf = tree.DecisionTreeClassifier(criterion = criterion, splitter = splitter, max_features = max_features, max_depth = max_depth)\n",
        "\n",
        "          clf = clf.fit(test_train_collection['features_train'], test_train_collection['class_train']) # fit encontra padrões nos dados\n",
        "          prediction = clf.predict(test_train_collection['features_test'].values)\n",
        "          iter_metrics['accuracy'] = iter_metrics['accuracy'] + metrics.accuracy_score(test_train_collection['class_test'].values, prediction)\n",
        "        \n",
        "        models.append({\n",
        "            'params': [criterion, splitter, max_features, max_depth],\n",
        "            'metrics_accuracy': iter_metrics['accuracy']/30,\n",
        "        })\n",
        "\n",
        "\n",
        "\n"
      ],
      "execution_count": null,
      "outputs": [
        {
          "output_type": "stream",
          "text": [
            "gini\n",
            "best\n",
            "random\n",
            "entropy\n",
            "best\n",
            "random\n"
          ],
          "name": "stdout"
        }
      ]
    },
    {
      "cell_type": "code",
      "metadata": {
        "id": "JWCpJ0GdWEXo"
      },
      "source": [
        "max = 0\n",
        "params = []\n",
        "for model in models:\n",
        "  if(max < model['metrics_accuracy']):\n",
        "    max = model['metrics_accuracy']\n",
        "    params = model['params']"
      ],
      "execution_count": null,
      "outputs": []
    },
    {
      "cell_type": "code",
      "metadata": {
        "id": "vynzH5PzbEUP",
        "outputId": "df99eae1-77ea-4839-a023-82fc2e460232",
        "colab": {
          "base_uri": "https://localhost:8080/",
          "height": 50
        }
      },
      "source": [
        "print(max)\n",
        "print(params)"
      ],
      "execution_count": null,
      "outputs": [
        {
          "output_type": "stream",
          "text": [
            "0.5354401805869073\n",
            "['gini', 'best', 7, 5]\n"
          ],
          "name": "stdout"
        }
      ]
    },
    {
      "cell_type": "code",
      "metadata": {
        "id": "Zu-cf-UUPcOn",
        "outputId": "8df29966-12cf-4c1e-dba9-c7ac50223c2a",
        "colab": {
          "base_uri": "https://localhost:8080/",
          "height": 521
        }
      },
      "source": [
        "# KNN\n",
        "knn_models = []\n",
        "\n",
        "#setting possible attr\n",
        "iterations = list(range(1, 31)) ## iterating to get the mean metrics values of random models created by specific params\n",
        "n_neighborss = list(range(1,30))\n",
        "weightss = ['uniform', 'distance']\n",
        "algorithms = ['auto', 'ball_tree','kd_tree','brute']\n",
        "ps = list(range(1,3))\n",
        "leaf_size = []\n",
        "\n",
        "\n",
        "\n",
        "\n",
        "\n",
        "for n_neighbors in n_neighborss:\n",
        "  print(n_neighbors)\n",
        "  for weights in weightss:\n",
        "    for algorithm in algorithms:\n",
        "      for p in ps:\n",
        "\n",
        "        \n",
        "\n",
        "\n",
        "        iter_metrics = {\n",
        "            'accuracy': 0\n",
        "        }\n",
        "        for iteration in iterations:\n",
        "          neigh = KNeighborsClassifier(n_neighbors=n_neighbors, weights = weights, algorithm = algorithm, p = p)\n",
        "\n",
        "          neigh = neigh.fit(test_train_collection['features_train'], np.ravel(test_train_collection['class_train'], order='C')) # fit encontra padrões nos dados\n",
        "          prediction = neigh.predict(test_train_collection['features_test'].values)\n",
        "          iter_metrics['accuracy'] = iter_metrics['accuracy'] + metrics.accuracy_score(test_train_collection['class_test'].values, prediction)\n",
        "        \n",
        "        knn_models.append({\n",
        "            'params': [n_neighbors, weights, algorithm, p],\n",
        "            'metrics': iter_metrics['accuracy']/30\n",
        "        })\n",
        "\n",
        "\n",
        "\n"
      ],
      "execution_count": 28,
      "outputs": [
        {
          "output_type": "stream",
          "text": [
            "1\n",
            "2\n",
            "3\n",
            "4\n",
            "5\n",
            "6\n",
            "7\n",
            "8\n",
            "9\n",
            "10\n",
            "11\n",
            "12\n",
            "13\n",
            "14\n",
            "15\n",
            "16\n",
            "17\n",
            "18\n",
            "19\n",
            "20\n",
            "21\n",
            "22\n",
            "23\n",
            "24\n",
            "25\n",
            "26\n",
            "27\n",
            "28\n",
            "29\n",
            "30\n"
          ],
          "name": "stdout"
        }
      ]
    },
    {
      "cell_type": "code",
      "metadata": {
        "id": "BZ012lwBj0mH"
      },
      "source": [
        "max = 0\n",
        "params = []\n",
        "for model in knn_models:\n",
        "  if(max < model['metrics']):\n",
        "    max = model['metrics']\n",
        "    params = model['params']"
      ],
      "execution_count": null,
      "outputs": []
    },
    {
      "cell_type": "code",
      "metadata": {
        "id": "KCz2jf5vHnL2",
        "outputId": "ba068a51-bd02-42a4-ded3-6fa5c1dbea35",
        "colab": {
          "base_uri": "https://localhost:8080/"
        }
      },
      "source": [
        "print(max)\n",
        "print(params)"
      ],
      "execution_count": null,
      "outputs": [
        {
          "output_type": "stream",
          "text": [
            "0.5440180586907446\n",
            "[18, 'uniform', 'auto', 1]\n"
          ],
          "name": "stdout"
        }
      ]
    },
    {
      "cell_type": "code",
      "metadata": {
        "id": "tnESq2WHImEM"
      },
      "source": [
        ""
      ],
      "execution_count": null,
      "outputs": []
    },
    {
      "cell_type": "code",
      "metadata": {
        "id": "z9OXryeqKX8U"
      },
      "source": [
        ""
      ],
      "execution_count": null,
      "outputs": []
    },
    {
      "cell_type": "code",
      "metadata": {
        "id": "Re4ykyxm3pX-"
      },
      "source": [
        ""
      ],
      "execution_count": null,
      "outputs": []
    }
  ]
}